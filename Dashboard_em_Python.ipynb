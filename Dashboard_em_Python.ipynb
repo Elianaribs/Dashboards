{
  "nbformat": 4,
  "nbformat_minor": 0,
  "metadata": {
    "colab": {
      "provenance": [],
      "authorship_tag": "ABX9TyN4XGYY6T6eWESqTZnfQmQ9",
      "include_colab_link": true
    },
    "kernelspec": {
      "name": "python3",
      "display_name": "Python 3"
    },
    "language_info": {
      "name": "python"
    }
  },
  "cells": [
    {
      "cell_type": "markdown",
      "metadata": {
        "id": "view-in-github",
        "colab_type": "text"
      },
      "source": [
        "<a href=\"https://colab.research.google.com/github/Elianaribs/Dashboards/blob/main/Dashboard_em_Python.ipynb\" target=\"_parent\"><img src=\"https://colab.research.google.com/assets/colab-badge.svg\" alt=\"Open In Colab\"/></a>"
      ]
    },
    {
      "cell_type": "code",
      "execution_count": 26,
      "metadata": {
        "collapsed": true,
        "id": "-XjBbh1TDLiP"
      },
      "outputs": [],
      "source": [
        "from dash import Dash, html, dcc, Input, Output\n",
        "import pandas as pd\n",
        "import plotly.express as px\n",
        "import openpyxl"
      ]
    },
    {
      "cell_type": "code",
      "source": [
        "# Inicializa o app\n",
        "app = Dash(__name__)\n",
        "\n",
        "# Carrega os dados\n",
        "df = pd.read_excel('Vendas.xlsx')\n",
        "\n",
        "# Opções do dropdown\n",
        "opcoes = list(df['ID Loja'].unique())\n",
        "opcoes.append('Todas as Lojas')\n",
        "\n",
        "# Gráfico inicial\n",
        "fig = px.bar(df, x=\"Produto\", y=\"Quantidade\", color=\"ID Loja\", barmode=\"group\")\n",
        "\n",
        "# Layout do app\n",
        "app.layout = html.Div(children=[\n",
        "    html.H1(children='Faturamento das Lojas'),\n",
        "    html.H2(children='Gráfico com o faturamento de todos os produtos separados por loja'),\n",
        "\n",
        "    html.Div(children='''Obs: Este gráfico mostra a quantidade de produtos vendidos, não o faturamento.'''),\n",
        "\n",
        "    dcc.Dropdown(opcoes, value='Todas as Lojas', id='lista_lojas'),\n",
        "    dcc.Graph(id='grafico_quantidade_vendas', figure=fig)\n",
        "])\n",
        "\n",
        "# Callback para atualizar o gráfico\n",
        "@app.callback(\n",
        "    Output('grafico_quantidade_vendas', 'figure'),\n",
        "    Input('lista_lojas', 'value')\n",
        ")\n",
        "def update_output(value):\n",
        "    if value == 'Todas as Lojas':\n",
        "        fig = px.bar(df, x=\"Produto\", y=\"Quantidade\", color=\"ID Loja\", barmode=\"group\")\n",
        "    else:\n",
        "        tabela_filtrada = df[df['ID Loja'] == value]\n",
        "        fig = px.bar(tabela_filtrada, x=\"Produto\", y=\"Quantidade\", color=\"ID Loja\", barmode=\"group\")\n",
        "\n",
        "    return fig\n",
        "\n",
        "# Executa o app\n",
        "if __name__ == '__main__':\n",
        "    app.run(debug=True)\n"
      ],
      "metadata": {
        "colab": {
          "base_uri": "https://localhost:8080/",
          "height": 671
        },
        "id": "pq639fcocbp8",
        "outputId": "86c2b8a0-298b-4fae-dc5b-3e79734fe67e"
      },
      "execution_count": 30,
      "outputs": [
        {
          "output_type": "display_data",
          "data": {
            "text/plain": [
              "<IPython.core.display.Javascript object>"
            ],
            "application/javascript": [
              "(async (port, path, width, height, cache, element) => {\n",
              "    if (!google.colab.kernel.accessAllowed && !cache) {\n",
              "      return;\n",
              "    }\n",
              "    element.appendChild(document.createTextNode(''));\n",
              "    const url = await google.colab.kernel.proxyPort(port, {cache});\n",
              "    const iframe = document.createElement('iframe');\n",
              "    iframe.src = new URL(path, url).toString();\n",
              "    iframe.height = height;\n",
              "    iframe.width = width;\n",
              "    iframe.style.border = 0;\n",
              "    iframe.allow = [\n",
              "        'accelerometer',\n",
              "        'autoplay',\n",
              "        'camera',\n",
              "        'clipboard-read',\n",
              "        'clipboard-write',\n",
              "        'gyroscope',\n",
              "        'magnetometer',\n",
              "        'microphone',\n",
              "        'serial',\n",
              "        'usb',\n",
              "        'xr-spatial-tracking',\n",
              "    ].join('; ');\n",
              "    element.appendChild(iframe);\n",
              "  })(8050, \"/\", \"100%\", 650, false, window.element)"
            ]
          },
          "metadata": {}
        }
      ]
    }
  ]
}